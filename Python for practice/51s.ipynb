{
 "cells": [
  {
   "cell_type": "code",
   "execution_count": 1,
   "metadata": {},
   "outputs": [
    {
     "name": "stdout",
     "output_type": "stream",
     "text": [
      "Content-type: text/html\n",
      "\n",
      "<!DOCTYPE HTML>\n",
      "        <html>\n",
      "        <head>\n",
      "            <meta charset=\"utf-8\">\n",
      "        </head>\n",
      "        <body>\n",
      "<h1>8593365083862022874</h1>\n",
      "<h1>4873404027745076993</h1>\n",
      "<h1>-7690812276779648460</h1>\n",
      "<h1>-467307259164170193</h1>\n",
      "</body>\n",
      "        </html>\n"
     ]
    }
   ],
   "source": [
    "#!/usr/bin/env python3\n",
    "import cgi\n",
    "\n",
    "form = cgi.FieldStorage()\n",
    "text = form.getfirst(\"INPUT_TEXT\", \"не задано\")\n",
    "text = text[:-1]\n",
    "\n",
    "print(\"Content-type: text/html\\n\")\n",
    "print(\"\"\"<!DOCTYPE HTML>\n",
    "        <html>\n",
    "        <head>\n",
    "            <meta charset=\"utf-8\">\n",
    "        </head>\n",
    "        <body>\"\"\")\n",
    "\n",
    "for i in range(1, len(text) + 1, 2):\n",
    "    print(\"<h1>\" + str(hash(text[i])) + \"</h1>\")\n",
    "\n",
    "print(\"\"\"</body>\n",
    "        </html>\"\"\")"
   ]
  },
  {
   "cell_type": "code",
   "execution_count": null,
   "metadata": {},
   "outputs": [],
   "source": []
  }
 ],
 "metadata": {
  "kernelspec": {
   "display_name": "Python 3",
   "language": "python",
   "name": "python3"
  },
  "language_info": {
   "codemirror_mode": {
    "name": "ipython",
    "version": 3
   },
   "file_extension": ".py",
   "mimetype": "text/x-python",
   "name": "python",
   "nbconvert_exporter": "python",
   "pygments_lexer": "ipython3",
   "version": "3.7.4"
  }
 },
 "nbformat": 4,
 "nbformat_minor": 2
}
