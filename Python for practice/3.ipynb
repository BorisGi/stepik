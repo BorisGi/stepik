{
 "cells": [
  {
   "cell_type": "markdown",
   "metadata": {},
   "source": [
    "## 3. XML ##"
   ]
  },
  {
   "cell_type": "markdown",
   "metadata": {},
   "source": [
    "### 3.1 ###"
   ]
  },
  {
   "cell_type": "code",
   "execution_count": 1,
   "metadata": {},
   "outputs": [],
   "source": [
    "import xmltodict"
   ]
  },
  {
   "cell_type": "code",
   "execution_count": 2,
   "metadata": {},
   "outputs": [
    {
     "name": "stdout",
     "output_type": "stream",
     "text": [
      "296932122\n"
     ]
    }
   ],
   "source": [
    "fin = open('map1.osm', 'r', encoding='utf8')\n",
    "xml = fin.read()\n",
    "fin.close()\n",
    "\n",
    "parsedxml = xmltodict.parse(xml)\n",
    "print(parsedxml['osm']['node'][100]['@id'])"
   ]
  },
  {
   "cell_type": "markdown",
   "metadata": {},
   "source": [
    "### 3.2 ###"
   ]
  },
  {
   "cell_type": "code",
   "execution_count": 8,
   "metadata": {},
   "outputs": [],
   "source": [
    "fin = open('map1.osm', 'r', encoding='utf8')\n",
    "xml_2 = fin.read()\n",
    "fin.close()\n",
    "\n",
    "parsedxml = xmltodict.parse(xml_2)"
   ]
  },
  {
   "cell_type": "code",
   "execution_count": 9,
   "metadata": {},
   "outputs": [],
   "source": [
    "count_tag = 0\n",
    "count_no_tag = 0"
   ]
  },
  {
   "cell_type": "code",
   "execution_count": 10,
   "metadata": {},
   "outputs": [],
   "source": [
    "for node in parsedxml['osm']['node']:\n",
    "    if 'tag' in node:\n",
    "        count_tag += 1\n",
    "        \n",
    "    else:\n",
    "        count_no_tag += 1"
   ]
  },
  {
   "cell_type": "code",
   "execution_count": 11,
   "metadata": {},
   "outputs": [
    {
     "data": {
      "text/plain": [
       "316"
      ]
     },
     "execution_count": 11,
     "metadata": {},
     "output_type": "execute_result"
    }
   ],
   "source": [
    "count_tag"
   ]
  },
  {
   "cell_type": "code",
   "execution_count": 12,
   "metadata": {},
   "outputs": [
    {
     "data": {
      "text/plain": [
       "6166"
      ]
     },
     "execution_count": 12,
     "metadata": {},
     "output_type": "execute_result"
    }
   ],
   "source": [
    "count_no_tag"
   ]
  },
  {
   "cell_type": "code",
   "execution_count": null,
   "metadata": {},
   "outputs": [],
   "source": []
  },
  {
   "cell_type": "markdown",
   "metadata": {},
   "source": [
    "### 3.3 ###"
   ]
  },
  {
   "cell_type": "code",
   "execution_count": 146,
   "metadata": {},
   "outputs": [],
   "source": [
    "fin = open('map2.osm', 'r', encoding='utf8')\n",
    "xml_3 = fin.read()\n",
    "fin.close()\n",
    "\n",
    "parsedxml = xmltodict.parse(xml_3)"
   ]
  },
  {
   "cell_type": "code",
   "execution_count": 138,
   "metadata": {},
   "outputs": [
    {
     "name": "stdout",
     "output_type": "stream",
     "text": [
      "15\n"
     ]
    }
   ],
   "source": [
    "count_fuel = 0\n",
    "for node in parsedxml['osm']['node']:\n",
    "    node = str(node)\n",
    "    if 'fuel' in node and 'amenity' in node:\n",
    "        count_fuel += 1\n",
    "print(count_fuel)"
   ]
  },
  {
   "cell_type": "code",
   "execution_count": null,
   "metadata": {},
   "outputs": [],
   "source": []
  },
  {
   "cell_type": "code",
   "execution_count": 144,
   "metadata": {},
   "outputs": [
    {
     "name": "stdout",
     "output_type": "stream",
     "text": [
      "OrderedDict([('@k', 'amenity'), ('@v', 'fuel')])\n",
      "OrderedDict([('@id', '2744642392'), ('@visible', 'true'), ('@version', '4'), ('@changeset', '56895057'), ('@timestamp', '2018-03-05T08:56:37Z'), ('@user', 'Владимир К'), ('@uid', '2853561'), ('@lat', '55.4357229'), ('@lon', '37.5991071'), ('tag', OrderedDict([('@k', 'amenity'), ('@v', 'fuel')]))])\n"
     ]
    }
   ],
   "source": [
    "# проблема с преобразованием в словарь / список\n",
    "\n",
    "for node in parsedxml['osm']['node']:\n",
    "    if 'tag' in node:\n",
    "        tags = node['tag']\n",
    "        if isinstance(tags,dict):\n",
    "            if (tags['@v'])=='fuel':\n",
    "                print(tags)\n",
    "                print(node)"
   ]
  },
  {
   "cell_type": "code",
   "execution_count": null,
   "metadata": {},
   "outputs": [],
   "source": []
  },
  {
   "cell_type": "code",
   "execution_count": 135,
   "metadata": {},
   "outputs": [],
   "source": [
    "from lxml import etree"
   ]
  },
  {
   "cell_type": "code",
   "execution_count": 136,
   "metadata": {},
   "outputs": [
    {
     "name": "stdout",
     "output_type": "stream",
     "text": [
      "15\n"
     ]
    }
   ],
   "source": [
    "# решение через lxml\n",
    "\n",
    "tree = etree.parse('map2.osm')\n",
    "root = tree.getroot()\n",
    "print(len(root.xpath('./node/tag[@k=\"amenity\" and @v=\"fuel\"]')))"
   ]
  },
  {
   "cell_type": "code",
   "execution_count": null,
   "metadata": {},
   "outputs": [],
   "source": []
  },
  {
   "cell_type": "markdown",
   "metadata": {},
   "source": [
    "### 3.4 ###"
   ]
  },
  {
   "cell_type": "code",
   "execution_count": 189,
   "metadata": {},
   "outputs": [
    {
     "name": "stdout",
     "output_type": "stream",
     "text": [
      "27\n"
     ]
    }
   ],
   "source": [
    "# простой подсчет элементов\n",
    "\n",
    "print(xml_3.count('v=\"fuel\"'))"
   ]
  },
  {
   "cell_type": "code",
   "execution_count": 185,
   "metadata": {},
   "outputs": [
    {
     "name": "stdout",
     "output_type": "stream",
     "text": [
      "27\n"
     ]
    }
   ],
   "source": [
    "# дополнение к прошлому заданию\n",
    "\n",
    "for way in parsedxml['osm']['way']:\n",
    "    way = str(way)\n",
    "    if 'fuel' in way and 'amenity' in way:\n",
    "        count_fuel += 1\n",
    "print(count_fuel)"
   ]
  },
  {
   "cell_type": "code",
   "execution_count": null,
   "metadata": {},
   "outputs": [],
   "source": []
  },
  {
   "cell_type": "code",
   "execution_count": 192,
   "metadata": {},
   "outputs": [
    {
     "name": "stdout",
     "output_type": "stream",
     "text": [
      "27\n"
     ]
    }
   ],
   "source": [
    "# через lxml\n",
    "\n",
    "print(len(root.findall('*/tag[@k=\"amenity\"][@v=\"fuel\"]')))"
   ]
  },
  {
   "cell_type": "code",
   "execution_count": null,
   "metadata": {},
   "outputs": [],
   "source": []
  }
 ],
 "metadata": {
  "kernelspec": {
   "display_name": "Python 3",
   "language": "python",
   "name": "python3"
  },
  "language_info": {
   "codemirror_mode": {
    "name": "ipython",
    "version": 3
   },
   "file_extension": ".py",
   "mimetype": "text/x-python",
   "name": "python",
   "nbconvert_exporter": "python",
   "pygments_lexer": "ipython3",
   "version": "3.7.4"
  }
 },
 "nbformat": 4,
 "nbformat_minor": 2
}
