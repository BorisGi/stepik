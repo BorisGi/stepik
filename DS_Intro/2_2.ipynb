{
 "cells": [
  {
   "cell_type": "code",
   "execution_count": 1,
   "metadata": {},
   "outputs": [],
   "source": [
    "import pandas as pd\n",
    "import numpy as np\n",
    "\n",
    "from sklearn import tree\n",
    "\n",
    "import seaborn as sns\n",
    "import matplotlib.pyplot as plt\n",
    "import statistics\n",
    "\n",
    "%matplotlib inline"
   ]
  },
  {
   "cell_type": "markdown",
   "metadata": {},
   "source": [
    "## Энтропия"
   ]
  },
  {
   "cell_type": "markdown",
   "metadata": {},
   "source": [
    "$$E = -\\sum_{i=1}^n p_i*log_{2}p_i$$"
   ]
  },
  {
   "cell_type": "markdown",
   "metadata": {},
   "source": [
    "для предыдущей задачи: $E = -\\sum_{i=1}^n 1/2*log_{2}1/2 -\\sum_{i=1}^n 1/2*log_{2}1/2 = -\\sum_{i=1}^n *log_{2}1/2 = 1$"
   ]
  },
  {
   "cell_type": "markdown",
   "metadata": {},
   "source": [
    "если все значения одинаковы: $E = -1 * log_{2}1 - 0 * log_{2}0 = 1*0 - 0*1 = 0$"
   ]
  },
  {
   "cell_type": "code",
   "execution_count": 20,
   "metadata": {},
   "outputs": [
    {
     "data": {
      "text/plain": [
       "-23.509775004326936"
      ]
     },
     "execution_count": 20,
     "metadata": {},
     "output_type": "execute_result"
    }
   ],
   "source": [
    "import math\n",
    "p1 = 4\n",
    "p2 = 6\n",
    "E = -(p1*math.log(p1,2) + p2*math.log(p2,2))\n",
    "E"
   ]
  },
  {
   "cell_type": "markdown",
   "metadata": {},
   "source": [
    "## Information Gain"
   ]
  },
  {
   "cell_type": "markdown",
   "metadata": {},
   "source": [
    "$$IG = E(Y) - E(Y|X)$$\n",
    "$n_0, n_1$ - выборка при x = 0, x = 1\n",
    "\n",
    "$n_0 + n_1 = N$\n",
    "\n",
    "$E_0, E_1$ - энтропия x = 0, x = 1\n",
    "$$E(Y|X) = n_0/N * E_0 +  n_1/N * E_1 $$"
   ]
  },
  {
   "cell_type": "code",
   "execution_count": 36,
   "metadata": {},
   "outputs": [
    {
     "data": {
      "text/plain": [
       "0.6105"
      ]
     },
     "execution_count": 36,
     "metadata": {},
     "output_type": "execute_result"
    }
   ],
   "source": [
    "E0 = 0\n",
    "E1 = 0.721\n",
    "n0 = 5\n",
    "n1 = 5\n",
    "N = n0 + n1\n",
    "IG = 0.971 - (n0*E0 + n1*E1)/N\n",
    "IG"
   ]
  },
  {
   "cell_type": "code",
   "execution_count": null,
   "metadata": {},
   "outputs": [],
   "source": []
  },
  {
   "cell_type": "code",
   "execution_count": 3,
   "metadata": {},
   "outputs": [],
   "source": [
    "df_dogs = pd.read_csv('https://stepik.org/media/attachments/course/4852/dogs.csv')"
   ]
  },
  {
   "cell_type": "code",
   "execution_count": 9,
   "metadata": {},
   "outputs": [
    {
     "data": {
      "text/html": [
       "<div>\n",
       "<style scoped>\n",
       "    .dataframe tbody tr th:only-of-type {\n",
       "        vertical-align: middle;\n",
       "    }\n",
       "\n",
       "    .dataframe tbody tr th {\n",
       "        vertical-align: top;\n",
       "    }\n",
       "\n",
       "    .dataframe thead th {\n",
       "        text-align: right;\n",
       "    }\n",
       "</style>\n",
       "<table border=\"1\" class=\"dataframe\">\n",
       "  <thead>\n",
       "    <tr style=\"text-align: right;\">\n",
       "      <th></th>\n",
       "      <th>number</th>\n",
       "      <th>sherst</th>\n",
       "      <th>gav</th>\n",
       "      <th>laz</th>\n",
       "      <th>vid</th>\n",
       "    </tr>\n",
       "  </thead>\n",
       "  <tbody>\n",
       "    <tr>\n",
       "      <td>0</td>\n",
       "      <td>0</td>\n",
       "      <td>1</td>\n",
       "      <td>1</td>\n",
       "      <td>0</td>\n",
       "      <td>собачка</td>\n",
       "    </tr>\n",
       "    <tr>\n",
       "      <td>1</td>\n",
       "      <td>1</td>\n",
       "      <td>1</td>\n",
       "      <td>1</td>\n",
       "      <td>0</td>\n",
       "      <td>собачка</td>\n",
       "    </tr>\n",
       "    <tr>\n",
       "      <td>2</td>\n",
       "      <td>2</td>\n",
       "      <td>1</td>\n",
       "      <td>1</td>\n",
       "      <td>0</td>\n",
       "      <td>собачка</td>\n",
       "    </tr>\n",
       "    <tr>\n",
       "      <td>3</td>\n",
       "      <td>3</td>\n",
       "      <td>1</td>\n",
       "      <td>1</td>\n",
       "      <td>0</td>\n",
       "      <td>собачка</td>\n",
       "    </tr>\n",
       "    <tr>\n",
       "      <td>4</td>\n",
       "      <td>4</td>\n",
       "      <td>1</td>\n",
       "      <td>0</td>\n",
       "      <td>1</td>\n",
       "      <td>котик</td>\n",
       "    </tr>\n",
       "  </tbody>\n",
       "</table>\n",
       "</div>"
      ],
      "text/plain": [
       "   number  sherst  gav  laz      vid\n",
       "0       0       1    1    0  собачка\n",
       "1       1       1    1    0  собачка\n",
       "2       2       1    1    0  собачка\n",
       "3       3       1    1    0  собачка\n",
       "4       4       1    0    1    котик"
      ]
     },
     "execution_count": 9,
     "metadata": {},
     "output_type": "execute_result"
    }
   ],
   "source": [
    "df_dogs.rename(columns={'Unnamed: 0' : 'number',\n",
    "                        'Шерстист': 'sherst',\n",
    "                        'Гавкает': 'gav',\n",
    "                        'Лазает по деревьям': 'laz',\n",
    "                        'Вид': 'vid'}, inplace=True)\n",
    "df_dogs.head()"
   ]
  },
  {
   "cell_type": "code",
   "execution_count": 13,
   "metadata": {},
   "outputs": [
    {
     "data": {
      "text/plain": [
       "0.99"
      ]
     },
     "execution_count": 13,
     "metadata": {},
     "output_type": "execute_result"
    }
   ],
   "source": [
    "from scipy.stats import entropy\n",
    "round(entropy([4/9,5/9],base=2),2)"
   ]
  },
  {
   "cell_type": "code",
   "execution_count": 18,
   "metadata": {},
   "outputs": [
    {
     "name": "stdout",
     "output_type": "stream",
     "text": [
      "Соба 0.0\n",
      "Кот 0.9910760598382222\n"
     ]
    }
   ],
   "source": [
    "# шерстист\n",
    "\n",
    "print('Соба', (1/1)*math.log2((1/1)) - 0)\n",
    "print('Кот', -(4/9)*math.log2((4/9)) - (5/9)*math.log2((5/9)))"
   ]
  },
  {
   "cell_type": "code",
   "execution_count": 18,
   "metadata": {},
   "outputs": [
    {
     "name": "stdout",
     "output_type": "stream",
     "text": [
      "Соба 0.0\n",
      "Кот 0.7219280948873623\n"
     ]
    }
   ],
   "source": [
    "# гавкает\n",
    "\n",
    "print('Соба', 0 - (5/5)*math.log2((5/5)))\n",
    "print('Кот', -(4/5)*math.log2((4/5)) - (1/5)*math.log2((1/5)))"
   ]
  },
  {
   "cell_type": "code",
   "execution_count": 20,
   "metadata": {},
   "outputs": [
    {
     "name": "stdout",
     "output_type": "stream",
     "text": [
      "Соба 0.0\n",
      "Кот -0.0\n"
     ]
    }
   ],
   "source": [
    "# лазает по деревьям\n",
    "\n",
    "print('Соба', 0 - (6/6)*math.log2((6/6)))\n",
    "print('Кот', -(4/4)*math.log2((4/4)) - 0)"
   ]
  },
  {
   "cell_type": "code",
   "execution_count": null,
   "metadata": {},
   "outputs": [],
   "source": []
  },
  {
   "cell_type": "code",
   "execution_count": null,
   "metadata": {},
   "outputs": [],
   "source": []
  }
 ],
 "metadata": {
  "kernelspec": {
   "display_name": "Python 3",
   "language": "python",
   "name": "python3"
  },
  "language_info": {
   "codemirror_mode": {
    "name": "ipython",
    "version": 3
   },
   "file_extension": ".py",
   "mimetype": "text/x-python",
   "name": "python",
   "nbconvert_exporter": "python",
   "pygments_lexer": "ipython3",
   "version": "3.7.4"
  }
 },
 "nbformat": 4,
 "nbformat_minor": 2
}
