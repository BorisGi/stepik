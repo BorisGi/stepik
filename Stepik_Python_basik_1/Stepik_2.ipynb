{
 "cells": [
  {
   "cell_type": "code",
   "execution_count": 1,
   "metadata": {},
   "outputs": [],
   "source": [
    "import requests"
   ]
  },
  {
   "cell_type": "code",
   "execution_count": 47,
   "metadata": {},
   "outputs": [],
   "source": [
    "url = 'https://stepic.org/media/attachments/course67/3.6.2/833.txt'"
   ]
  },
  {
   "cell_type": "code",
   "execution_count": 48,
   "metadata": {},
   "outputs": [],
   "source": [
    "text_file = requests.get(url)\n",
    "our_text = text_file.text.splitlines()"
   ]
  },
  {
   "cell_type": "code",
   "execution_count": 51,
   "metadata": {},
   "outputs": [
    {
     "name": "stdout",
     "output_type": "stream",
     "text": [
      "169\n"
     ]
    }
   ],
   "source": [
    "count = 0\n",
    "for i in our_text:\n",
    "    count += 1\n",
    "    \n",
    "print(count)"
   ]
  },
  {
   "cell_type": "code",
   "execution_count": null,
   "metadata": {},
   "outputs": [],
   "source": []
  },
  {
   "cell_type": "code",
   "execution_count": 26,
   "metadata": {},
   "outputs": [
    {
     "name": "stdout",
     "output_type": "stream",
     "text": [
      "0 1 2 3 4 5 6 7 8 9 10 11 12 13 14 15 16 17 18 19 20 21 22 23 24 25 26 27 28 29 30 31 32 33 34 35 36 37 38 39 40 41 42 43 44 45 46 47 48 49 50 51 52 53 54 55 56 57 58 59 60 61 62 63 64 65 66 67 68 69 70 71 72 73 74 75 76 77 78 79 80 81 82 83 84 85 86 87 88 89 90 91 92 93 94 95 96 97 98 99 100 101 102 103 104 105 106 107 108 109 110 111 112 113 114 115 116 117 118 119 120 121 122 123 124 125 126 127 128 129 130 131 132 133 134 135 136 137 138 139 140 141 142 143 144 145 146 147 148 149 150 151 152 153 154 155 156 157 158 159 160 161 162 163 164 165 166 167 168 169 170 171 172 173 174 175 176 177 178 179 180 181 182 183 184 185 186 187 188 189 190 191 192 193 194 195 196 197 198 199 200 201 202 203 204 205 206 207 208 209 210 211 212 213 214 215 216 217 218 219 220 221 222 223 224 225 226 227 228 229 230 231 232 233 234 235 236 237 238 239 240 241 242 243 244 245 246 247 248 We are the champions, my friends,\n",
      "And we'll keep on fighting 'til the end.\n",
      "We are the champions.\n",
      "We are the champions.\n",
      "No time for losers\n",
      "'Cause we are the champions of the world.\n"
     ]
    }
   ],
   "source": [
    "with open('dataset_3378_3.txt', 'r') as fun:\n",
    "    url = fun.readline().strip()\n",
    "    count = 0\n",
    "    \n",
    "text_file = requests.get(url)\n",
    "our_text = text_file.text\n",
    "\n",
    "while our_text[:2] != 'We':\n",
    "    url_new = 'https://stepic.org/media/attachments/course67/3.6.3/' + our_text\n",
    "    text_file = requests.get(url_new)\n",
    "    our_text = text_file.text\n",
    "    print(count, end=' ')\n",
    "    count += 1\n",
    "\n",
    "else:\n",
    "    print(our_text)"
   ]
  },
  {
   "cell_type": "code",
   "execution_count": 23,
   "metadata": {},
   "outputs": [
    {
     "name": "stdout",
     "output_type": "stream",
     "text": [
      "0\n"
     ]
    },
    {
     "data": {
      "text/plain": [
       "'We '"
      ]
     },
     "execution_count": 23,
     "metadata": {},
     "output_type": "execute_result"
    }
   ],
   "source": [
    "our_text = 'We hhh'\n",
    "if our_text[:2] == 'We':\n",
    "    print('0')\n",
    "    \n",
    "    \n",
    "our_text[:3]"
   ]
  },
  {
   "cell_type": "code",
   "execution_count": null,
   "metadata": {},
   "outputs": [],
   "source": [
    "print(our_text)"
   ]
  },
  {
   "cell_type": "code",
   "execution_count": null,
   "metadata": {},
   "outputs": [],
   "source": []
  },
  {
   "cell_type": "code",
   "execution_count": null,
   "metadata": {},
   "outputs": [],
   "source": []
  },
  {
   "cell_type": "markdown",
   "metadata": {},
   "source": [
    "### 3.7 Задачи по материалам недели ###"
   ]
  },
  {
   "cell_type": "markdown",
   "metadata": {},
   "source": [
    "Напишите программу, которая принимает на стандартный вход список игр футбольных команд с результатом матча и выводит на стандартный вывод сводную таблицу результатов всех матчей.\n",
    "\n",
    "За победу команде начисляется 3 очка, за поражение — 0, за ничью — 1.\n",
    "\n",
    "Формат ввода следующий:\n",
    "В первой строке указано целое число n — количество завершенных игр.\n",
    "После этого идет n строк, в которых записаны результаты игры в следующем формате:\n",
    "Первая_команда;Забито_первой_командой;Вторая_команда;Забито_второй_командой\n",
    "\n",
    "Вывод программы необходимо оформить следующим образом:\n",
    "Команда:Всего_игр Побед Ничьих Поражений Всего_очков\n",
    "\n",
    "Конкретный пример ввода-вывода приведён ниже.\n",
    "\n",
    "Порядок вывода команд произвольный.\n",
    "\n",
    "Sample Input:\n",
    "\n",
    "3\n",
    "\n",
    "Зенит;3;Спартак;1\n",
    "\n",
    "Спартак;1;ЦСКА;1\n",
    "\n",
    "ЦСКА;0;Зенит;2"
   ]
  },
  {
   "cell_type": "code",
   "execution_count": 21,
   "metadata": {},
   "outputs": [],
   "source": [
    "def add_to_dict(team, score):\n",
    "    if team not in teams.keys():\n",
    "        teams[team] = [0, 0, 0, 0, 0]\n",
    "        \n",
    "    for i in range(len(teams[team])):\n",
    "        teams[team][i] += score[i]\n",
    "    "
   ]
  },
  {
   "cell_type": "code",
   "execution_count": 23,
   "metadata": {},
   "outputs": [
    {
     "name": "stdout",
     "output_type": "stream",
     "text": [
      "Зенит;3;Спартак;1\n",
      "Спартак;1;ЦСКА;1\n"
     ]
    }
   ],
   "source": [
    "teams = {}\n",
    "n = int(input())\n",
    "\n",
    "while n != 0:\n",
    "    text = input().split(';')\n",
    "    \n",
    "    if text[1] > text[3]:\n",
    "        res1 = [1, 1, 0, 0, 3]\n",
    "        res2 = [1, 0, 0, 1, 0]\n",
    "    \n",
    "    elif text[1] == text[3]:\n",
    "        res1 = [1, 0, 1, 0, 1]\n",
    "        res2 = [1, 0, 1, 0, 1]\n",
    "        \n",
    "    else:\n",
    "        res1 = [1, 0, 0, 1, 0]\n",
    "        res2 = [1, 1, 0, 0, 3]\n",
    "                \n",
    "    add_to_dict(text[0], res1)\n",
    "    add_to_dict(text[2], res2)       \n",
    "    \n",
    "    n -= 1"
   ]
  },
  {
   "cell_type": "code",
   "execution_count": 70,
   "metadata": {},
   "outputs": [
    {
     "name": "stdout",
     "output_type": "stream",
     "text": [
      "Зенит: 1 1 0 0 3\n",
      "Спартак: 2 0 1 1 1\n",
      "ЦСКА: 1 0 1 0 1\n"
     ]
    }
   ],
   "source": [
    "for key, value in teams.items():\n",
    "    print(key+':', *value)"
   ]
  },
  {
   "cell_type": "markdown",
   "metadata": {},
   "source": [
    "### Задача 2 ###\n",
    "\n",
    "В какой-то момент в Институте биоинформатики биологи перестали понимать, что говорят информатики: они говорили каким-то странным набором звуков.\n",
    "\n",
    "В какой-то момент один из биологов раскрыл секрет информатиков: они использовали при общении подстановочный шифр, т.е. заменяли каждый символ исходного сообщения на соответствующий ему другой символ. Биологи раздобыли ключ к шифру и теперь нуждаются в помощи:\n",
    "\n",
    "Напишите программу, которая умеет шифровать и расшифровывать шифр подстановки. Программа принимает на вход две строки одинаковой длины, на первой строке записаны символы исходного алфавита, на второй строке — символы конечного алфавита, после чего идёт строка, которую нужно зашифровать переданным ключом, и ещё одна строка, которую нужно расшифровать.\n",
    "\n",
    "Пусть, например, на вход программе передано:\n",
    "\n",
    "abcd\n",
    "\n",
    "*d%#\n",
    "\n",
    "abacabadaba\n",
    "\n",
    "#*%*d*%\n",
    "\n",
    "Это значит, что символ a исходного сообщения заменяется на символ * в шифре, b заменяется на d, c — на % и d — на #.\n",
    "Нужно зашифровать строку abacabadaba и расшифровать строку #*%*d*% с помощью этого шифра. Получаем следующие строки, которые и передаём на вывод программы:\n",
    "\n",
    "*d*%*d*#*d*\n",
    "\n",
    "dacabac"
   ]
  },
  {
   "cell_type": "code",
   "execution_count": 118,
   "metadata": {},
   "outputs": [],
   "source": [
    "def change_symbol(dict_n, text_n, new_text_n):\n",
    "    for i in text_n:\n",
    "        if i in dict_n.keys():\n",
    "            new_text_n += dict_n[i]\n",
    "\n",
    "        else:\n",
    "            new_text_n += i"
   ]
  },
  {
   "cell_type": "code",
   "execution_count": 120,
   "metadata": {},
   "outputs": [],
   "source": [
    "symbols = input()\n",
    "cipher = input()\n",
    "text = list(input())\n",
    "cipher_text = list(input())\n",
    "\n",
    "dict_encrypt = {}\n",
    "dict_decipher = {}\n",
    "new_cipher_text = []\n",
    "new_text = []\n",
    "\n",
    "\n",
    "for i in range(len(symbols)):\n",
    "    dict_encrypt[symbols[i]] = cipher[i]\n",
    "    \n",
    "for i in range(len(symbols)):\n",
    "    dict_decipher[cipher[i]] = symbols[i]\n",
    "\n",
    "\n",
    "\n",
    "change_symbol(dict_encrypt, text, new_cipher_text)\n",
    "change_symbol(dict_decipher, cipher_text, new_text)\n",
    "print(*new_cipher_text, sep='')\n",
    "print(*new_text, sep='')"
   ]
  },
  {
   "cell_type": "code",
   "execution_count": null,
   "metadata": {},
   "outputs": [],
   "source": [
    "# решение из форума\n",
    "key, code, encode, decode = ( input() for _ in range(4) ) \n",
    "\n",
    "print(*[ code[key.index(c)] for c in encode ], sep='')\n",
    "print(*[ key[code.index(c)] for c in decode ], sep='')"
   ]
  },
  {
   "cell_type": "code",
   "execution_count": null,
   "metadata": {},
   "outputs": [],
   "source": []
  },
  {
   "cell_type": "markdown",
   "metadata": {},
   "source": [
    "### Задача 3 ###\n",
    "\n",
    "Простейшая система проверки орфографии может быть основана на использовании списка известных слов.\n",
    "Если введённое слово не найдено в этом списке, оно помечается как \"ошибка\".\n",
    "\n",
    "Попробуем написать подобную систему.\n",
    "\n",
    "На вход программе первой строкой передаётся количество d известных нам слов, после чего на d строках указываются эти слова. Затем передаётся количество ll строк текста для проверки, после чего ll строк текста.\n",
    "\n",
    "Выведите уникальные \"ошибки\" в произвольном порядке. Работу производите без учёта регистра.\n",
    "\n",
    "Sample Input:\n",
    "\n",
    "4\n",
    "\n",
    "champions\n",
    "\n",
    "we\n",
    "\n",
    "are\n",
    "\n",
    "Stepik\n",
    "\n",
    "3\n",
    "\n",
    "We are the champignons\n",
    "\n",
    "We Are The Champions\n",
    "\n",
    "Stepic\n",
    "\n",
    "Sample Output:\n",
    "\n",
    "stepic\n",
    "\n",
    "champignons\n",
    "\n",
    "the"
   ]
  },
  {
   "cell_type": "code",
   "execution_count": 17,
   "metadata": {},
   "outputs": [
    {
     "name": "stdout",
     "output_type": "stream",
     "text": [
      "Введите кол-во слов:2\n",
      "рис\n",
      "тю\n",
      "3\n",
      "Китай рис тю\n",
      "Тю Тю\n",
      "рис корова\n",
      "корова\n",
      "китай\n"
     ]
    }
   ],
   "source": [
    "words = {}\n",
    "wrongs = []\n",
    "\n",
    "n = int(input('Введите кол-во слов:'))\n",
    "\n",
    "while n != 0:\n",
    "    words[n] = input().lower()\n",
    "    n -= 1\n",
    "    \n",
    "n = int(input('Введите кол-во строк:'))\n",
    "\n",
    "while n != 0:\n",
    "    text = input().lower().split(' ')\n",
    "    for i in text:\n",
    "        if i not in words.values():\n",
    "            wrongs += [i]\n",
    "            \n",
    "    n -= 1\n",
    "    \n",
    "wrongs = set(wrongs)\n",
    "    \n",
    "for i in wrongs:\n",
    "    print(i)"
   ]
  },
  {
   "cell_type": "raw",
   "metadata": {},
   "source": []
  },
  {
   "cell_type": "markdown",
   "metadata": {},
   "source": [
    "### Задача 4 ###\n",
    "\n",
    "Группа биологов в институте биоинформатики завела себе черепашку.\n",
    "\n",
    "После дрессировки черепашка научилась понимать и запоминать указания биологов следующего вида:\n",
    "север 10\n",
    "запад 20\n",
    "юг 30\n",
    "восток 40\n",
    "где первое слово — это направление, в котором должна двигаться черепашка, а число после слова — это положительное расстояние в сантиметрах, которое должна пройти черепашка.\n",
    "\n",
    "Но команды даются быстро, а черепашка ползёт медленно, и программисты догадались, что можно написать программу, которая определит, куда в итоге биологи приведут черепашку. Для этого программисты просят вас написать программу, которая выведет точку, в которой окажется черепашка после всех команд. Для простоты они решили считать, что движение начинается в точке (0, 0), и движение на восток увеличивает первую координату, а на север — вторую.\n",
    "\n",
    "Программе подаётся на вход число команд nn, которые нужно выполнить черепашке, после чего nn строк с самими командами. Вывести нужно два числа в одну строку: первую и вторую координату конечной точки черепашки. Все координаты целочисленные."
   ]
  },
  {
   "cell_type": "code",
   "execution_count": 71,
   "metadata": {},
   "outputs": [],
   "source": [
    "def move_the_turtle(direct):\n",
    "    turtle[direct[0]][1] += turtle[direct[0]][0] * int(direct[1])"
   ]
  },
  {
   "cell_type": "code",
   "execution_count": 70,
   "metadata": {},
   "outputs": [
    {
     "name": "stdout",
     "output_type": "stream",
     "text": [
      "Введите кол-во команд:4\n",
      "север 10\n",
      "запад 20\n",
      "юг 20\n",
      "восток 200\n",
      "-10 180\n"
     ]
    }
   ],
   "source": [
    "turtle = {}\n",
    "turtle['север'] = [1, 0]\n",
    "turtle['запад'] = [-1, 0]\n",
    "turtle['юг'] = [-1, 0]\n",
    "turtle['восток'] = [1, 0]\n",
    "\n",
    "\n",
    "n = int(input())\n",
    "\n",
    "while n != 0:\n",
    "    text = input().split(' ')\n",
    "    \n",
    "    move_the_turtle(text)\n",
    "    n -= 1\n",
    "   \n",
    " \n",
    "print((turtle['запад'][1] + turtle['восток'][1]), (turtle['север'][1] + turtle['юг'][1]))"
   ]
  },
  {
   "cell_type": "code",
   "execution_count": null,
   "metadata": {},
   "outputs": [],
   "source": [
    "# решение из форума\n",
    "coordinates = {'север': 0, 'запад': 0, 'юг': 0, 'восток': 0}\n",
    "\n",
    "for i in range(int(input())):\n",
    "    command = input().split()\n",
    "    coordinates[command[0]] += int(command[1])\n",
    "result_1 = coordinates['восток'] - coordinates['запад']\n",
    "result_2 = coordinates['север'] - coordinates['юг']\n",
    "print(result_1, result_2)"
   ]
  },
  {
   "cell_type": "code",
   "execution_count": null,
   "metadata": {},
   "outputs": [],
   "source": []
  },
  {
   "cell_type": "markdown",
   "metadata": {},
   "source": [
    "### Задача 5 ###\n",
    "\n",
    "Дан файл с таблицей в формате TSV с информацией о росте школьников разных классов.\n",
    "\n",
    "Напишите программу, которая прочитает этот файл и подсчитает для каждого класса средний рост учащегося.\n",
    "\n",
    "Файл состоит из набора строк, каждая из которых представляет собой три поля:\n",
    "Класс Фамилия Рост\n",
    "\n",
    "Класс обозначается только числом. Буквенные модификаторы не используются. Номер класса может быть от 1 до 11 включительно. В фамилии нет пробелов, а в качестве роста используется натуральное число, но при подсчёте среднего требуется вычислить значение в виде вещественного числа.\n",
    "\n",
    "Выводить информацию о среднем росте следует в порядке возрастания номера класса (для классов с первого по одиннадцатый). Если про какой-то класс нет информации, необходимо вывести напротив него прочерк."
   ]
  },
  {
   "cell_type": "code",
   "execution_count": 167,
   "metadata": {},
   "outputs": [
    {
     "name": "stdout",
     "output_type": "stream",
     "text": [
      "1 124.625\n",
      "2 129.11111111111111\n",
      "3 134.0\n",
      "4 139.33333333333334\n",
      "5 143.33333333333334\n",
      "6 154.125\n",
      "7 161.0\n",
      "8 164.7\n",
      "9 170.16666666666666\n",
      "10 170.1\n",
      "11 174.28571428571428\n"
     ]
    }
   ],
   "source": [
    "school_height = {}\n",
    "medium_height = {}\n",
    "\n",
    "with open('dataset_3380_5.txt', 'r', encoding='UTF-8') as f:\n",
    "     for line in f:\n",
    "            stroka = line.strip().split('\\t')\n",
    "            \n",
    "            if stroka[0] not in school_height.keys():\n",
    "                school_height[stroka[0]] = [stroka[2]]\n",
    "             \n",
    "            else:\n",
    "                school_height[stroka[0]] += [stroka[2]]\n",
    "                \n",
    "                \n",
    "for i in range(11):\n",
    "    if str(i+1) not in school_height.keys():\n",
    "        medium_height[i+1] = '-'\n",
    "        \n",
    "    else:\n",
    "        medium_height[i+1] = sum(int(i) for i in school_height[str(i+1)]) / len(school_height[str(i+1)])\n",
    "        \n",
    "for k, v in medium_height.items():\n",
    "    print(k, v, sep=' ')"
   ]
  },
  {
   "cell_type": "code",
   "execution_count": null,
   "metadata": {},
   "outputs": [],
   "source": []
  }
 ],
 "metadata": {
  "kernelspec": {
   "display_name": "Python 3",
   "language": "python",
   "name": "python3"
  },
  "language_info": {
   "codemirror_mode": {
    "name": "ipython",
    "version": 3
   },
   "file_extension": ".py",
   "mimetype": "text/x-python",
   "name": "python",
   "nbconvert_exporter": "python",
   "pygments_lexer": "ipython3",
   "version": "3.7.4"
  }
 },
 "nbformat": 4,
 "nbformat_minor": 2
}
