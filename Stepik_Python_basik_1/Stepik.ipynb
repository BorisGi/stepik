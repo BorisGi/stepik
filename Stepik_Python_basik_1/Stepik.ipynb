{
 "cells": [
  {
   "cell_type": "code",
   "execution_count": null,
   "metadata": {
    "scrolled": true
   },
   "outputs": [],
   "source": [
    "war_peacefirst_matrix = []\n",
    "n = input()\n",
    "\n",
    "while n != 'end':\n",
    "    a = [int(i) for i in n.split()]\n",
    "    first_matrix += [a]\n",
    "    n = input()\n",
    "\n",
    "width = len(first_matrix[0])\n",
    "height = len(first_matrix)\n",
    "\n",
    "\n",
    "second_matrix = [[0 for n_rows in range(width)] for n_columns in range(height)]\n",
    "\n",
    "list_matrix = []\n",
    "for nr in range(height):\n",
    "    for nc in range(width):\n",
    "        second_matrix[nr][nc] = first_matrix[nr][nc-width+1] + first_matrix[nr-height+1][nc] + first_matrix[nr][nc-1] + first_matrix[nr-1][nc]\n",
    "        print(second_matrix[nr][nc], end=' ')\n",
    "    print()"
   ]
  },
  {
   "cell_type": "code",
   "execution_count": 10,
   "metadata": {},
   "outputs": [
    {
     "name": "stdout",
     "output_type": "stream",
     "text": [
      "[1, 2, 3, 4, 5, 6, 7, 8, 9, 10, 11, 12, 13, 14, 15, 16, 17, 18, 19, 20, 21, 22, 23, 24, 25]\n"
     ]
    }
   ],
   "source": [
    "n_list = list(range(1, n * n + 1))\n",
    "print(n_list)"
   ]
  },
  {
   "cell_type": "code",
   "execution_count": 28,
   "metadata": {},
   "outputs": [
    {
     "name": "stdout",
     "output_type": "stream",
     "text": [
      "2\n",
      "1 2 \n",
      "4 3 \n"
     ]
    }
   ],
   "source": [
    "n = int(input())\n",
    "numbers = 1\n",
    "\n",
    "upper_p = 0\n",
    "low_p = n\n",
    "nc = n\n",
    "numbers = 1\n",
    "\n",
    "\n",
    "matrix = [[0] * n for i in range(n)]\n",
    "    \n",
    "while nc > 1:\n",
    "    for w in range(nc):\n",
    "        matrix[upper_p][w+upper_p] += numbers\n",
    "        numbers += 1\n",
    "\n",
    "    for h in range(nc-2):\n",
    "        matrix[upper_p+h+1][low_p-1] += numbers\n",
    "        numbers += 1\n",
    "\n",
    "    for w in range(nc):\n",
    "        matrix[low_p-1][low_p-1-w] += numbers\n",
    "        numbers += 1\n",
    "\n",
    "    for h in range(nc-2):\n",
    "        matrix[low_p-2-h][upper_p] += numbers\n",
    "        numbers += 1\n",
    " \n",
    "    upper_p += 1\n",
    "    low_p -= 1\n",
    "    nc -= 2\n",
    "\n",
    "for w in range(nc):\n",
    "    matrix[upper_p][w+upper_p] += numbers\n",
    "    numbers += 1\n",
    "    \n",
    "for i in range(n):\n",
    "    for j in range(n):\n",
    "        print(matrix[i][j], end = ' ')\n",
    "    print()"
   ]
  },
  {
   "cell_type": "code",
   "execution_count": 27,
   "metadata": {},
   "outputs": [],
   "source": [
    "l = [8, 88, 65, 24, 1]"
   ]
  },
  {
   "cell_type": "code",
   "execution_count": 16,
   "metadata": {},
   "outputs": [],
   "source": [
    "def modify_list(l):\n",
    "    temporary_list = []\n",
    "    for i in range(len(l)):\n",
    "        if l[i] % 2 == 0:\n",
    "            temporary_list += [int(l[i] / 2)]\n",
    "    l.clear()\n",
    "    l.extend(temporary_list)  "
   ]
  },
  {
   "cell_type": "code",
   "execution_count": 17,
   "metadata": {},
   "outputs": [
    {
     "name": "stdout",
     "output_type": "stream",
     "text": [
      "None\n"
     ]
    }
   ],
   "source": [
    "print(modify_list(l))"
   ]
  },
  {
   "cell_type": "code",
   "execution_count": 18,
   "metadata": {},
   "outputs": [
    {
     "name": "stdout",
     "output_type": "stream",
     "text": [
      "[4, 44, 12]\n"
     ]
    }
   ],
   "source": [
    "print(l)"
   ]
  },
  {
   "cell_type": "code",
   "execution_count": 92,
   "metadata": {},
   "outputs": [],
   "source": [
    "d = {1:[10], 2:[20], 3:[30], 4:[40], 14:[140]}\n",
    "key = 8\n",
    "value = 22"
   ]
  },
  {
   "cell_type": "code",
   "execution_count": 93,
   "metadata": {},
   "outputs": [],
   "source": [
    "def update_dictionary(d, key, value):\n",
    "    if key in d:war_peace\n",
    "        \n",
    "        d[key] += [value]\n",
    "    elif 2*key in d:\n",
    "        d[2*key] += [value]\n",
    "    else:\n",
    "        d[2*key] = [value]\n"
   ]
  },
  {
   "cell_type": "code",
   "execution_count": 94,
   "metadata": {},
   "outputs": [
    {
     "name": "stdout",
     "output_type": "stream",
     "text": [
      "{1: [10], 2: [20], 3: [30], 4: [40], 14: [140], 16: [22]}\n"
     ]
    }
   ],
   "source": [
    "update_dictionary(d, key, value)\n",
    "print(d)a aa abC aa ac abc bcd a"
   ]
  },
  {
   "cell_type": "code",
   "execution_count": null,
   "metadata": {},
   "outputs": [],
   "source": [
    "def update_dictionary(d, key, value):\n",
    "    key += key * (key not in d)\n",
    "    d[key] = d.get(key, []) + [value]"
   ]
  },
  {
   "cell_type": "code",
   "execution_count": 119,
   "metadata": {},
   "outputs": [
    {
     "name": "stdout",
     "output_type": "stream",
     "text": [
      "a aa abC aa ac abc bcd a\n",
      "bcd 1\n",
      "a 2\n",
      "aa 2\n",
      "abc 2\n",
      "ac 1\n"
     ]
    }
   ],
   "source": [
    "war = input().lower().split()\n",
    "war_words = set(war)\n",
    "for i in war_words:\n",
    "    print(i, war.count(i))"
   ]
  },
  {
   "cell_type": "code",
   "execution_count": 7,
   "metadata": {},
   "outputs": [
    {
     "name": "stdout",
     "output_type": "stream",
     "text": [
      "3\n",
      "1\n",
      "2\n",
      "2\n",
      "12\n",
      "{1: 11, 2: 12}\n"
     ]
    }
   ],
   "source": [
    "dp = {}\n",
    "n = int(input())\n",
    "for i in range(n):\n",
    "    x = int(input())\n",
    "    if x not in dp:\n",
    "        dp[x] = x+10\n",
    "        print(x+10)\n",
    "    else:\n",
    "        print(dp[x])\n",
    "    "
   ]
  },
  {
   "cell_type": "code",
   "execution_count": 6,
   "metadata": {},
   "outputs": [
    {
     "name": "stdout",
     "output_type": "stream",
     "text": [
      "AAdSSSr\n",
      "A2d1S3r1\n"
     ]
    }
   ],
   "source": [
    "input_string = input()\n",
    "symbol_number = len(input_string)\n",
    "i = 0\n",
    "decoded_string = str()\n",
    "\n",
    "while i < symbol_number:\n",
    "  lnumber = 1\n",
    "  decoded_string = decoded_string + input_string[i]\n",
    "  i += 1\n",
    "  if i == symbol_number:\n",
    "    decoded_string += str(lnumber)\n",
    "    break\n",
    "  while input_string[i] == input_string[i-1]:\n",
    "    lnumber += 1\n",
    "    i += 1\n",
    "    if i == symbol_number:\n",
    "     break\n",
    "  decoded_string += str(lnumber)\n",
    "\n",
    "print(decoded_string)"
   ]
  },
  {
   "cell_type": "code",
   "execution_count": 73,
   "metadata": {},
   "outputs": [],
   "source": [
    "def decoding(input_string):\n",
    "    digits = '1234567890'\n",
    "    letters = []\n",
    "    original = ''\n",
    "\n",
    "    for i in input_string:\n",
    "        if i not in digits:\n",
    "            letters += i\n",
    "            input_string = input_string.replace(i, ' ')\n",
    "\n",
    "    numbers = input_string.split(' ')\n",
    "    numbers.pop(0)\n",
    "\n",
    "    for i in range(len(letters)):\n",
    "        original += ''.join(letters[i] * int(numbers[i]))\n",
    "    return original\n"
   ]
  },
  {
   "cell_type": "code",
   "execution_count": 78,
   "metadata": {},
   "outputs": [
    {
     "name": "stdout",
     "output_type": "stream",
     "text": [
      "t16D14V7l3c19S15P9u15k13v4n6M13u5f11Q16D15u13m13G2o6M16Z14K1i2D1C11a7d11g11d3H9q17U14N5\n",
      "ttttttttttttttttDDDDDDDDDDDDDDVVVVVVVlllcccccccccccccccccccSSSSSSSSSSSSSSSPPPPPPPPPuuuuuuuuuuuuuuukkkkkkkkkkkkkvvvvnnnnnnMMMMMMMMMMMMMuuuuufffffffffffQQQQQQQQQQQQQQQQDDDDDDDDDDDDDDDuuuuuuuuuuuuummmmmmmmmmmmmGGooooooMMMMMMMMMMMMMMMMZZZZZZZZZZZZZZKiiDCCCCCCCCCCCaaaaaaadddddddddddgggggggggggdddHHHHHHHHHqqqqqqqqqqqqqqqqqUUUUUUUUUUUUUUNNNNN\n"
     ]
    }
   ],
   "source": [
    "stroka = input()\n",
    "\n",
    "print(decoding(stroka))\n"
   ]
  },
  {
   "cell_type": "code",
   "execution_count": 87,
   "metadata": {},
   "outputs": [
    {
     "name": "stdout",
     "output_type": "stream",
     "text": [
      "jjjjjjjjjjjjjjjkkkkkkkkkkkkkkkkLBBBBBBBBBBBBdddddddddddddddddddDDDDDDDDttttttttttttttttttEEEEEEEEElliidddddddddddddccccccccccccccccccccGGGGGGGGGGGGGGGGzzzzzzzzzzzzzzzzYYYYYYYYYYYYYYYYYYAAAAAAAAAAAAAAAAAAAAttttmmmmmmmmmmmmmmOOOOOOOOOOOOOOOOOOOMMMMMMMcccZZZZZZZZZZZZZZZZZddddddDDDDDsssssmmmmmmmmmmmmmmmddddddddddddddPPPPPPXXXXUUUUUUUUUUUUUUUUhhhhhhhhhhhhhhhSSSSSSSSSSSSSgggggmmmmmmmmmmpppppdmmmmmmmmmmmmmmmmmmmEEEEEEEEEEEEEEddddddddddddd\n"
     ]
    }
   ],
   "source": [
    "inf = open('dataset_3363_2.txt', 'r')\n",
    "stroka = decoding(inf.readline().strip())\n",
    "inf.close()\n",
    "print(stroka)\n",
    "ouf = open('dataset_3363_2.txt', 'w')\n",
    "ouf.write(stroka + '\\n')\n",
    "ouf.close()"
   ]
  },
  {
   "cell_type": "code",
   "execution_count": 57,
   "metadata": {},
   "outputs": [
    {
     "name": "stdout",
     "output_type": "stream",
     "text": [
      "[('ycaz', 7)]\n",
      "ycaz 7\n"
     ]
    }
   ],
   "source": [
    "all_words = []\n",
    "words = []\n",
    "words_number = []\n",
    "\n",
    "with open('dataset_3363_3.txt', 'r') as fun:\n",
    "    for i in fun:\n",
    "        line = fun.readline().strip().lower().split()\n",
    "        all_words += line\n",
    "    words = sorted(list(set(all_words)))\n",
    "        \n",
    "    for i in words:\n",
    "        words_number += [all_words.count(i)]\n",
    "    \n",
    "    words_rate = list(zip(words, words_number))\n",
    "    \n",
    "    words_rate.sort(key = lambda x: (x[1], x[0]), reverse=True)\n",
    "    \n",
    "    x = 0\n",
    "    n = 0\n",
    "    \n",
    "    while n == 0:\n",
    "        n = int(words_rate[x][1]) - int(words_rate[x+1][1])\n",
    "        x += 1\n",
    "        \n",
    "    top = []\n",
    "    for i in range(x):\n",
    "        top += [words_rate[i]]\n",
    "        \n",
    "    print(top)\n",
    "    \n",
    "    print(top[0][0], top[0][1])"
   ]
  },
  {
   "cell_type": "code",
   "execution_count": 65,
   "metadata": {},
   "outputs": [],
   "source": [
    "dict_score = {}\n",
    "mat_ball = 0\n",
    "ph_ball = 0\n",
    "rl_ball = 0\n",
    "count = 0\n",
    "with open('dataset_3363_4.txt', 'r', encoding='utf-8') as file:\n",
    "    with open('new_data.txt', 'w') as new_file:\n",
    "        for i in file:\n",
    "            list_p = i.strip('\\n').split(';')\n",
    "            mat_ball += int(list_p[1])\n",
    "            ph_ball += int(list_p[2])\n",
    "            rl_ball += int(list_p[3])\n",
    "            count += 1\n",
    "            average_ball = round(((int(list_p[1]) + int(list_p[2]) + int(list_p[3])) / 3), 9)\n",
    "            new_file.write(''.join(str(average_ball)) +'\\n')\n",
    "         \n",
    "        mat_ball = str(round((mat_ball / count), 9))\n",
    "        ph_ball = str(round((ph_ball / count), 9))\n",
    "        rl_ball = str(round((rl_ball / count), 9))\n",
    "        \n",
    "        new_str = ' '.join((mat_ball, ph_ball, rl_ball))\n",
    "        new_file.write(''.join(new_str) +'\\n')"
   ]
  },
  {
   "cell_type": "code",
   "execution_count": null,
   "metadata": {},
   "outputs": [],
   "source": []
  },
  {
   "cell_type": "code",
   "execution_count": 62,
   "metadata": {},
   "outputs": [
    {
     "name": "stdout",
     "output_type": "stream",
     "text": [
      "3.141592653589793\n",
      "10.0\n",
      "62.83185307179586\n"
     ]
    }
   ],
   "source": [
    "import math\n",
    "x = float(input()) * math.pi * 2\n",
    "print(x)\n"
   ]
  },
  {
   "cell_type": "code",
   "execution_count": 12,
   "metadata": {},
   "outputs": [
    {
     "name": "stdout",
     "output_type": "stream",
     "text": [
      "-f C:\\Users\\Boris\\AppData\\Roaming\\jupyter\\runtime\\kernel-3f9c762a-1bb5-4baf-88c8-bdbab26b8b8a.json "
     ]
    }
   ],
   "source": [
    "import sys\n",
    "x = sys.argv[1:]\n",
    "\n",
    "for i in x:\n",
    "    print(i, end=' ')"
   ]
  },
  {
   "cell_type": "code",
   "execution_count": null,
   "metadata": {},
   "outputs": [],
   "source": []
  }
 ],
 "metadata": {
  "kernelspec": {
   "display_name": "Python 3",
   "language": "python",
   "name": "python3"
  },
  "language_info": {
   "codemirror_mode": {
    "name": "ipython",
    "version": 3
   },
   "file_extension": ".py",
   "mimetype": "text/x-python",
   "name": "python",
   "nbconvert_exporter": "python",
   "pygments_lexer": "ipython3",
   "version": "3.7.4"
  }
 },
 "nbformat": 4,
 "nbformat_minor": 2
}
